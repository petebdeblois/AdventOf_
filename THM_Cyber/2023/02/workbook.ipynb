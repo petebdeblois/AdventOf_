{
 "cells": [
  {
   "cell_type": "markdown",
   "metadata": {},
   "source": [
    "## Introduction\n",
    "Your task is to apply the skills learnt throughout today's task to analyse a packet capture from the AntarctiCrafts network. You will need to:\n",
    "1. Use Pandas to group the analyse the data in `Source`, `Destination` and `Protocol`.\n",
    "2. Apply functions such as sum, average, size and describe to this grouping.\n",
    "\n",
    "The packet capture and the required libraries have been imported for you:\n",
    "- pandas `pd`\n",
    "- packet capture (network_traffic.csv) `df`\n",
    "\n",
    "**Make sure you press Run (Shift + Enter) on every cell within this notebook**. If you modify the code in your cell, you will need to re-run it for it to execute.\n",
    "\n",
    "## Answer the following questions:\n",
    "2) How many packets were captured (looking at the PacketNumber)?\n",
    "3) What IP address sent the most amount of traffic during the packet capture?\n",
    "4) What was the most commonly used Protocol?\n",
    "\n",
    "Place your code into the cells below. **Make sure to submit your answers in the relevant questions at the bottom of the task on TryHackMe**.\n"
   ]
  },
  {
   "cell_type": "code",
   "execution_count": 3,
   "metadata": {},
   "outputs": [],
   "source": [
    "import pandas as pd\n",
    "import matplotlib.pyplot as plt\n"
   ]
  },
  {
   "cell_type": "code",
   "execution_count": 4,
   "metadata": {},
   "outputs": [
    {
     "data": {
      "text/html": [
       "<div>\n",
       "<style scoped>\n",
       "    .dataframe tbody tr th:only-of-type {\n",
       "        vertical-align: middle;\n",
       "    }\n",
       "\n",
       "    .dataframe tbody tr th {\n",
       "        vertical-align: top;\n",
       "    }\n",
       "\n",
       "    .dataframe thead th {\n",
       "        text-align: right;\n",
       "    }\n",
       "</style>\n",
       "<table border=\"1\" class=\"dataframe\">\n",
       "  <thead>\n",
       "    <tr style=\"text-align: right;\">\n",
       "      <th></th>\n",
       "      <th>PacketNumber</th>\n",
       "      <th>Timestamp</th>\n",
       "      <th>Source</th>\n",
       "      <th>Destination</th>\n",
       "      <th>Protocol</th>\n",
       "    </tr>\n",
       "  </thead>\n",
       "  <tbody>\n",
       "    <tr>\n",
       "      <th>0</th>\n",
       "      <td>1</td>\n",
       "      <td>05:49.5</td>\n",
       "      <td>10.10.1.7</td>\n",
       "      <td>10.10.1.9</td>\n",
       "      <td>HTTP</td>\n",
       "    </tr>\n",
       "    <tr>\n",
       "      <th>1</th>\n",
       "      <td>2</td>\n",
       "      <td>05:50.3</td>\n",
       "      <td>10.10.1.10</td>\n",
       "      <td>10.10.1.3</td>\n",
       "      <td>TCP</td>\n",
       "    </tr>\n",
       "    <tr>\n",
       "      <th>2</th>\n",
       "      <td>3</td>\n",
       "      <td>06:10.3</td>\n",
       "      <td>10.10.1.1</td>\n",
       "      <td>10.10.1.2</td>\n",
       "      <td>HTTP</td>\n",
       "    </tr>\n",
       "    <tr>\n",
       "      <th>3</th>\n",
       "      <td>4</td>\n",
       "      <td>06:10.4</td>\n",
       "      <td>10.10.1.9</td>\n",
       "      <td>10.10.1.3</td>\n",
       "      <td>ICMP</td>\n",
       "    </tr>\n",
       "    <tr>\n",
       "      <th>4</th>\n",
       "      <td>5</td>\n",
       "      <td>06:10.4</td>\n",
       "      <td>10.10.1.1</td>\n",
       "      <td>10.10.1.7</td>\n",
       "      <td>ICMP</td>\n",
       "    </tr>\n",
       "  </tbody>\n",
       "</table>\n",
       "</div>"
      ],
      "text/plain": [
       "   PacketNumber Timestamp      Source Destination Protocol\n",
       "0             1   05:49.5   10.10.1.7   10.10.1.9     HTTP\n",
       "1             2   05:50.3  10.10.1.10   10.10.1.3      TCP\n",
       "2             3   06:10.3   10.10.1.1   10.10.1.2     HTTP\n",
       "3             4   06:10.4   10.10.1.9   10.10.1.3     ICMP\n",
       "4             5   06:10.4   10.10.1.1   10.10.1.7     ICMP"
      ]
     },
     "execution_count": 4,
     "metadata": {},
     "output_type": "execute_result"
    }
   ],
   "source": [
    "df = pd.read_csv('network_traffic.csv')\n",
    "df.head(5)\n"
   ]
  },
  {
   "cell_type": "code",
   "execution_count": 5,
   "metadata": {},
   "outputs": [
    {
     "data": {
      "text/plain": [
       "PacketNumber    100\n",
       "Timestamp       100\n",
       "Source          100\n",
       "Destination     100\n",
       "Protocol        100\n",
       "dtype: int64"
      ]
     },
     "execution_count": 5,
     "metadata": {},
     "output_type": "execute_result"
    }
   ],
   "source": [
    "# Question 2\n",
    "# How many packets were captured (looking at the PacketNumber)?\n",
    "\n",
    "# Here you will need to use Pandas count function on the dataframe\n",
    "\n",
    "# For example:\n",
    "# dataframe.count()\n",
    "# Remember, the dataframe in this notebook is called \"df\" not \"dataframe\"\n",
    "\n",
    "df.count()\n"
   ]
  },
  {
   "cell_type": "code",
   "execution_count": 7,
   "metadata": {},
   "outputs": [
    {
     "data": {
      "text/plain": [
       "Source\n",
       "10.10.1.1      8\n",
       "10.10.1.10     8\n",
       "10.10.1.2     12\n",
       "10.10.1.3     13\n",
       "10.10.1.4     15\n",
       "10.10.1.5      5\n",
       "10.10.1.6     14\n",
       "10.10.1.7      5\n",
       "10.10.1.8      9\n",
       "10.10.1.9     11\n",
       "dtype: int64"
      ]
     },
     "execution_count": 7,
     "metadata": {},
     "output_type": "execute_result"
    }
   ],
   "source": [
    "# Question 3\n",
    "# What IP address sent the most amount of traffic during the packet capture?\n",
    "\n",
    "# Here you can perform a groupby with Pandas size function on the Source and Destination columns\n",
    "# Remember, the dataframe in this notebook is called \"df\" not \"dataframe\"\n",
    "# Check the hint on TryHackMe if you are stuck.\n",
    "\n",
    "# For example:\n",
    "# dataframe.groupby(['ColumnName']).size()\n",
    "df.groupby([\"Source\"]).size()\n"
   ]
  },
  {
   "cell_type": "code",
   "execution_count": 10,
   "metadata": {},
   "outputs": [
    {
     "data": {
      "text/plain": [
       "Protocol\n",
       "DNS     25\n",
       "HTTP    24\n",
       "ICMP    27\n",
       "TCP     24\n",
       "dtype: int64"
      ]
     },
     "execution_count": 10,
     "metadata": {},
     "output_type": "execute_result"
    }
   ],
   "source": [
    "# Question 4\n",
    "# What was the most frequent protocol?\n",
    "\n",
    "# Here you can use Pandas value.counts on the appropriate column\n",
    "# Remember, we are counting how many values there are in the Protocol column\n",
    "df.groupby([\"Protocol\"]).size()\n"
   ]
  }
 ],
 "metadata": {
  "kernelspec": {
   "display_name": "Python 3",
   "language": "python",
   "name": "python3"
  },
  "language_info": {
   "codemirror_mode": {
    "name": "ipython",
    "version": 3
   },
   "file_extension": ".py",
   "mimetype": "text/x-python",
   "name": "python",
   "nbconvert_exporter": "python",
   "pygments_lexer": "ipython3",
   "version": "3.10.12"
  }
 },
 "nbformat": 4,
 "nbformat_minor": 2
}
